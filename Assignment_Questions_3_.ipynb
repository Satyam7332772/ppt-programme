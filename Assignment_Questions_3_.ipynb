{
  "nbformat": 4,
  "nbformat_minor": 0,
  "metadata": {
    "colab": {
      "provenance": [],
      "authorship_tag": "ABX9TyNKGN5veS/ntww3bje4/s76",
      "include_colab_link": true
    },
    "kernelspec": {
      "name": "python3",
      "display_name": "Python 3"
    },
    "language_info": {
      "name": "python"
    }
  },
  "cells": [
    {
      "cell_type": "markdown",
      "metadata": {
        "id": "view-in-github",
        "colab_type": "text"
      },
      "source": [
        "<a href=\"https://colab.research.google.com/github/Satyam7332772/ppt-programme/blob/main/Assignment_Questions_3_.ipynb\" target=\"_parent\"><img src=\"https://colab.research.google.com/assets/colab-badge.svg\" alt=\"Open In Colab\"/></a>"
      ]
    },
    {
      "cell_type": "code",
      "execution_count": 1,
      "metadata": {
        "colab": {
          "base_uri": "https://localhost:8080/"
        },
        "id": "wct04GInExWp",
        "outputId": "a31e0c2b-31d4-4edc-c166-4069c18dbdce"
      },
      "outputs": [
        {
          "output_type": "stream",
          "name": "stdout",
          "text": [
            "2\n"
          ]
        }
      ],
      "source": [
        "#ans1\n",
        "def threeSumClosest(nums, target):\n",
        "    nums.sort()\n",
        "    closestSum = float('inf')\n",
        "\n",
        "    for i in range(len(nums) - 2):\n",
        "        left = i + 1\n",
        "        right = len(nums) - 1\n",
        "\n",
        "        while left < right:\n",
        "            currentSum = nums[i] + nums[left] + nums[right]\n",
        "\n",
        "            if abs(currentSum - target) < abs(closestSum - target):\n",
        "                closestSum = currentSum\n",
        "\n",
        "            if currentSum > target:\n",
        "                right -= 1\n",
        "            elif currentSum < target:\n",
        "                left += 1\n",
        "            else:\n",
        "                return target\n",
        "\n",
        "    return closestSum\n",
        "#Example\n",
        "nums = [-1, 2, 1, -4]\n",
        "target = 1\n",
        "result = threeSumClosest(nums, target)\n",
        "print(result)\n"
      ]
    },
    {
      "cell_type": "code",
      "source": [
        "#ans2\n",
        "def fourSum(nums, target):\n",
        "    nums.sort()\n",
        "    result = []\n",
        "\n",
        "    for a in range(len(nums) - 3):\n",
        "        if a > 0 and nums[a] == nums[a-1]:\n",
        "            continue\n",
        "\n",
        "        for b in range(a + 1, len(nums) - 2):\n",
        "            if b > a + 1 and nums[b] == nums[b-1]:\n",
        "                continue\n",
        "\n",
        "            left = b + 1\n",
        "            right = len(nums) - 1\n",
        "\n",
        "            while left < right:\n",
        "                currentSum = nums[a] + nums[b] + nums[left] + nums[right]\n",
        "\n",
        "                if currentSum == target:\n",
        "                    result.append([nums[a], nums[b], nums[left], nums[right]])\n",
        "                    left += 1\n",
        "                    right -= 1\n",
        "\n",
        "                    while left < right and nums[left] == nums[left-1]:\n",
        "                        left += 1\n",
        "                    while left < right and nums[right] == nums[right+1]:\n",
        "                        right -= 1\n",
        "                elif currentSum < target:\n",
        "                    left += 1\n",
        "                else:\n",
        "                    right -= 1\n",
        "\n",
        "    return result\n",
        "\n",
        "#Example\n",
        "nums = [1, 0, -1, 0, -2, 2]\n",
        "target = 0\n",
        "result = fourSum(nums, target)\n",
        "print(result)\n"
      ],
      "metadata": {
        "colab": {
          "base_uri": "https://localhost:8080/"
        },
        "id": "qNnYuMdCMFn1",
        "outputId": "347c9777-cc20-45ea-8cd5-5a9683f787ab"
      },
      "execution_count": 2,
      "outputs": [
        {
          "output_type": "stream",
          "name": "stdout",
          "text": [
            "[[-2, -1, 1, 2], [-2, 0, 0, 2], [-1, 0, 0, 1]]\n"
          ]
        }
      ]
    },
    {
      "cell_type": "code",
      "source": [
        "#ans3\n",
        "def nextPermutation(nums):\n",
        "    # Find the first pair of adjacent elements in descending order\n",
        "    i = len(nums) - 1\n",
        "    while i > 0 and nums[i] <= nums[i - 1]:\n",
        "        i -= 1\n",
        "\n",
        "    # If no such pair is found, reverse the entire array\n",
        "    if i == 0:\n",
        "        nums.reverse()\n",
        "        return\n",
        "\n",
        "    # Find the smallest element in the suffix that is greater than nums[i-1]\n",
        "    j = len(nums) - 1\n",
        "    while nums[j] <= nums[i - 1]:\n",
        "        j -= 1\n",
        "\n",
        "    # Swap nums[i-1] and nums[j]\n",
        "    nums[i - 1], nums[j] = nums[j], nums[i - 1]\n",
        "\n",
        "    # Reverse the suffix\n",
        "    left = i\n",
        "    right = len(nums) - 1\n",
        "    while left < right:\n",
        "        nums[left], nums[right] = nums[right], nums[left]\n",
        "        left += 1\n",
        "        right -= 1\n",
        "\n",
        "#Example\n",
        "nums = [1, 2, 3]\n",
        "nextPermutation(nums)\n",
        "print(nums)\n"
      ],
      "metadata": {
        "colab": {
          "base_uri": "https://localhost:8080/"
        },
        "id": "KM1uavWCM0NE",
        "outputId": "b9ee1612-3329-435c-81a3-3bdc719c5ddd"
      },
      "execution_count": 3,
      "outputs": [
        {
          "output_type": "stream",
          "name": "stdout",
          "text": [
            "[1, 3, 2]\n"
          ]
        }
      ]
    },
    {
      "cell_type": "code",
      "source": [
        "#ans4\n",
        "def searchInsert(nums, target):\n",
        "    left = 0\n",
        "    right = len(nums) - 1\n",
        "\n",
        "    while left <= right:\n",
        "        mid = (left + right) // 2\n",
        "\n",
        "        if nums[mid] == target:\n",
        "            return mid\n",
        "        elif nums[mid] > target:\n",
        "            right = mid - 1\n",
        "        else:\n",
        "            left = mid + 1\n",
        "\n",
        "    return left\n",
        "\n",
        "#Example\n",
        "nums = [1, 3, 5, 6]\n",
        "target = 5\n",
        "result = searchInsert(nums, target)\n",
        "print(result)\n"
      ],
      "metadata": {
        "colab": {
          "base_uri": "https://localhost:8080/"
        },
        "id": "RagcrgHKNJ6Z",
        "outputId": "af0e0f9e-910c-41df-e94c-3b543194380f"
      },
      "execution_count": 4,
      "outputs": [
        {
          "output_type": "stream",
          "name": "stdout",
          "text": [
            "2\n"
          ]
        }
      ]
    },
    {
      "cell_type": "code",
      "source": [
        "#ans5\n",
        "def plusOne(digits):\n",
        "    n = len(digits)\n",
        "\n",
        "    for i in range(n - 1, -1, -1):\n",
        "        digits[i] += 1\n",
        "\n",
        "        if digits[i] < 10:\n",
        "            return digits\n",
        "        else:\n",
        "            digits[i] = 0\n",
        "\n",
        "    digits.insert(0, 1)\n",
        "    return digits\n",
        "\n",
        "#Example\n",
        "digits = [1, 2, 3]\n",
        "result = plusOne(digits)\n",
        "print(result)\n"
      ],
      "metadata": {
        "colab": {
          "base_uri": "https://localhost:8080/"
        },
        "id": "Bk4bI_BfNaII",
        "outputId": "92de2f0a-6254-4c09-e4a0-22b8123904c7"
      },
      "execution_count": 5,
      "outputs": [
        {
          "output_type": "stream",
          "name": "stdout",
          "text": [
            "[1, 2, 4]\n"
          ]
        }
      ]
    },
    {
      "cell_type": "code",
      "source": [
        "#ans6\n",
        "def singleNumber(nums):\n",
        "    result = 0\n",
        "    for num in nums:\n",
        "        result ^= num\n",
        "    return result\n",
        "# Example\n",
        "nums = [2, 2, 1]\n",
        "result = singleNumber(nums)\n",
        "print(result)\n"
      ],
      "metadata": {
        "colab": {
          "base_uri": "https://localhost:8080/"
        },
        "id": "g2D_Qv2DNzHz",
        "outputId": "7eb69c7c-95c6-4f07-c39b-93ca4fbcee19"
      },
      "execution_count": 6,
      "outputs": [
        {
          "output_type": "stream",
          "name": "stdout",
          "text": [
            "1\n"
          ]
        }
      ]
    },
    {
      "cell_type": "code",
      "source": [
        "#ans7\n",
        "def findMissingRanges(nums, lower, upper):\n",
        "    result = []\n",
        "    prev = lower - 1\n",
        "\n",
        "    for num in nums + [upper + 1]:\n",
        "        if num == prev + 1:\n",
        "            prev = num\n",
        "        elif num > prev + 1:\n",
        "            if prev + 1 == num - 1:\n",
        "                result.append(str(prev + 1))\n",
        "            else:\n",
        "                result.append(str(prev + 1) + '->' + str(num - 1))\n",
        "            prev = num - 1\n",
        "\n",
        "    return result\n",
        "\n",
        "#Example\n",
        "nums = [0, 1, 3, 50, 75]\n",
        "lower = 0\n",
        "upper = 99\n",
        "result = findMissingRanges(nums, lower, upper)\n",
        "print(result)\n",
        "\n"
      ],
      "metadata": {
        "colab": {
          "base_uri": "https://localhost:8080/"
        },
        "id": "MDq-YtWAODMh",
        "outputId": "fe8cfc85-828e-4acc-92d7-17a75e4a750b"
      },
      "execution_count": 7,
      "outputs": [
        {
          "output_type": "stream",
          "name": "stdout",
          "text": [
            "['2', '3->49', '50->74', '75->99']\n"
          ]
        }
      ]
    },
    {
      "cell_type": "code",
      "source": [
        "#ans8\n",
        "def canAttendMeetings(intervals):\n",
        "    intervals.sort(key=lambda x: x[0])\n",
        "\n",
        "    for i in range(1, len(intervals)):\n",
        "        if intervals[i][0] < intervals[i-1][1]:\n",
        "            return False\n",
        "\n",
        "    return True\n",
        "\n",
        "#Example\n",
        "intervals = [[0, 30], [5, 10], [15, 20]]\n",
        "result = canAttendMeetings(intervals)\n",
        "print(result)\n"
      ],
      "metadata": {
        "colab": {
          "base_uri": "https://localhost:8080/"
        },
        "id": "SBYy_E0sOWTK",
        "outputId": "739e9248-d681-413d-ef55-57637f85a355"
      },
      "execution_count": 8,
      "outputs": [
        {
          "output_type": "stream",
          "name": "stdout",
          "text": [
            "False\n"
          ]
        }
      ]
    },
    {
      "cell_type": "code",
      "source": [],
      "metadata": {
        "id": "MVfgobbtOhRK"
      },
      "execution_count": null,
      "outputs": []
    }
  ]
}