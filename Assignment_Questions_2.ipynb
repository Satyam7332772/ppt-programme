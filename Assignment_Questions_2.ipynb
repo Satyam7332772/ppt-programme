{
  "nbformat": 4,
  "nbformat_minor": 0,
  "metadata": {
    "colab": {
      "provenance": [],
      "authorship_tag": "ABX9TyOfRRGtvrcBQYbvirXpedia",
      "include_colab_link": true
    },
    "kernelspec": {
      "name": "python3",
      "display_name": "Python 3"
    },
    "language_info": {
      "name": "python"
    }
  },
  "cells": [
    {
      "cell_type": "markdown",
      "metadata": {
        "id": "view-in-github",
        "colab_type": "text"
      },
      "source": [
        "<a href=\"https://colab.research.google.com/github/Satyam7332772/ppt-programme/blob/main/Assignment_Questions_2.ipynb\" target=\"_parent\"><img src=\"https://colab.research.google.com/assets/colab-badge.svg\" alt=\"Open In Colab\"/></a>"
      ]
    },
    {
      "cell_type": "code",
      "execution_count": 1,
      "metadata": {
        "id": "khLREFO2KYIU"
      },
      "outputs": [],
      "source": [
        "#ans1\n",
        "def arrayPairSum(nums):\n",
        "    nums.sort()  # Sort the input array\n",
        "    sum = 0\n",
        "    for i in range(0, len(nums), 2):\n",
        "        sum += min(nums[i], nums[i+1])\n",
        "    return sum\n",
        "\n",
        "## Example\n",
        "nums = [1, 4, 3, 2]\n",
        "maximized_sum = arrayPairSum(nums)\n",
        "print(maximized_sum)\n"
      ]
    },
    {
      "cell_type": "code",
      "source": [
        "#ans2\n",
        "def maxCandies(candyType):\n",
        "    unique_candies = set()\n",
        "    for candy in candyType:\n",
        "        unique_candies.add(candy)\n",
        "    max_types = len(candyType) // 2\n",
        "    num_unique = len(unique_candies)\n",
        "    return min(num_unique, max_types)\n",
        "\n",
        "\n",
        "## Example\n",
        "candyType = [1, 1, 2, 2, 3, 3]\n",
        "max_num_types = maxCandies(candyType)\n",
        "print(max_num_types)\n"
      ],
      "metadata": {
        "colab": {
          "base_uri": "https://localhost:8080/"
        },
        "id": "XLZSsTs6Kuaj",
        "outputId": "d3309186-7421-4238-c0ea-68a105775768"
      },
      "execution_count": 2,
      "outputs": [
        {
          "output_type": "stream",
          "name": "stdout",
          "text": [
            "3\n"
          ]
        }
      ]
    },
    {
      "cell_type": "code",
      "source": [
        "#ans3\n",
        "def findLHS(nums):\n",
        "    count = {}\n",
        "    for num in nums:\n",
        "        count[num] = count.get(num, 0) + 1\n",
        "\n",
        "    max_length = 0\n",
        "    for num in count:\n",
        "        if num + 1 in count:\n",
        "            max_length = max(max_length, count[num] + count[num + 1])\n",
        "\n",
        "    return max_length\n",
        "\n",
        "## Example\n",
        "nums = [1, 3, 2, 2, 5, 2, 3, 7]\n",
        "longest_harmonious_subsequence = findLHS(nums)\n",
        "print(longest_harmonious_subsequence)\n"
      ],
      "metadata": {
        "colab": {
          "base_uri": "https://localhost:8080/"
        },
        "id": "D1reseasLn0U",
        "outputId": "a9a89806-5034-402d-c0ea-29f78c22a2dc"
      },
      "execution_count": 3,
      "outputs": [
        {
          "output_type": "stream",
          "name": "stdout",
          "text": [
            "5\n"
          ]
        }
      ]
    },
    {
      "cell_type": "code",
      "source": [
        "# ans 4\n",
        "def canPlaceFlowers(flowerbed, n):\n",
        "    count = 0\n",
        "    length = len(flowerbed)\n",
        "    for i in range(length):\n",
        "        if flowerbed[i] == 0 and (i == 0 or flowerbed[i - 1] == 0) and (i == length - 1 or flowerbed[i + 1] == 0):\n",
        "            flowerbed[i] = 1\n",
        "            count += 1\n",
        "\n",
        "    return count >= n\n",
        "\n",
        "## Example\n",
        "flowerbed = [1, 0, 0, 0, 1]\n",
        "n = 1\n",
        "can_plant = canPlaceFlowers(flowerbed, n)\n",
        "print(can_plant)\n"
      ],
      "metadata": {
        "colab": {
          "base_uri": "https://localhost:8080/"
        },
        "id": "dkjU_fesL5hC",
        "outputId": "eec4d678-bc9f-4e8d-81cc-ddb5bddae46d"
      },
      "execution_count": 4,
      "outputs": [
        {
          "output_type": "stream",
          "name": "stdout",
          "text": [
            "True\n"
          ]
        }
      ]
    },
    {
      "cell_type": "code",
      "source": [
        "#ans5\n",
        "def maximumProduct(nums):\n",
        "    nums.sort()\n",
        "    max_product_pos = nums[-1] * nums[-2] * nums[-3]\n",
        "    max_product_neg = nums[0] * nums[1] * nums[-1]\n",
        "    return max(max_product_pos, max_product_neg)\n",
        "## Example\n",
        "nums = [1, 2, 3]\n",
        "max_product = maximumProduct(nums)\n",
        "print(max_product)\n"
      ],
      "metadata": {
        "colab": {
          "base_uri": "https://localhost:8080/"
        },
        "id": "YIDtPEydMXlL",
        "outputId": "1d7a8ef0-8c80-44e7-cfd2-79c371b70c96"
      },
      "execution_count": 5,
      "outputs": [
        {
          "output_type": "stream",
          "name": "stdout",
          "text": [
            "6\n"
          ]
        }
      ]
    },
    {
      "cell_type": "code",
      "source": [
        "#ans6\n",
        "def search(nums, target):\n",
        "    left, right = 0, len(nums) - 1\n",
        "    while left <= right:\n",
        "        mid = (left + right) // 2\n",
        "        if nums[mid] == target:\n",
        "            return mid\n",
        "        elif nums[mid] > target:\n",
        "            right = mid - 1\n",
        "        else:\n",
        "            left = mid + 1\n",
        "    return -1\n",
        "\n",
        "#Example\n",
        "nums = [-1, 0, 3, 5, 9, 12]\n",
        "target = 9\n",
        "index = search(nums, target)\n",
        "print(index)\n"
      ],
      "metadata": {
        "colab": {
          "base_uri": "https://localhost:8080/"
        },
        "id": "OUFt9hpqMuEo",
        "outputId": "b53691bb-3f22-43b9-f5ce-7ab6e7f36252"
      },
      "execution_count": 6,
      "outputs": [
        {
          "output_type": "stream",
          "name": "stdout",
          "text": [
            "4\n"
          ]
        }
      ]
    },
    {
      "cell_type": "code",
      "source": [
        "#ans 7\n",
        "def isMonotonic(nums):\n",
        "    increasing = decreasing = True\n",
        "\n",
        "    for i in range(len(nums) - 1):\n",
        "        if nums[i] > nums[i + 1]:\n",
        "            increasing = False\n",
        "        if nums[i] < nums[i + 1]:\n",
        "            decreasing = False\n",
        "\n",
        "    return increasing or decreasing\n"
      ],
      "metadata": {
        "id": "I67U2T7ANByG"
      },
      "execution_count": 7,
      "outputs": []
    },
    {
      "cell_type": "code",
      "source": [
        "#ans 8\n",
        "def minimumScore(nums, k):\n",
        "    min_val = min(nums)\n",
        "    max_val = max(nums)\n",
        "\n",
        "    # If the range of operations [-k, k] is large enough, we can make the min_val equal to max_val.\n",
        "    if min_val + k >= max_val - k:\n",
        "        return 0\n",
        "    \n",
        "    # Otherwise, we can increase the min_val by adding k and decrease the max_val by subtracting k.\n",
        "    return max_val - k - (min_val + k)\n"
      ],
      "metadata": {
        "id": "wVnKWXyGNoCW"
      },
      "execution_count": null,
      "outputs": []
    }
  ]
}