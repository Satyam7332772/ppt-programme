{
  "nbformat": 4,
  "nbformat_minor": 0,
  "metadata": {
    "colab": {
      "provenance": [],
      "authorship_tag": "ABX9TyN2lno0an5ntA+5yKrXVsPN",
      "include_colab_link": true
    },
    "kernelspec": {
      "name": "python3",
      "display_name": "Python 3"
    },
    "language_info": {
      "name": "python"
    }
  },
  "cells": [
    {
      "cell_type": "markdown",
      "metadata": {
        "id": "view-in-github",
        "colab_type": "text"
      },
      "source": [
        "<a href=\"https://colab.research.google.com/github/Satyam7332772/ppt-programme/blob/main/Assignment_1_Arrays_(Deadline_31_May_2023).ipynb\" target=\"_parent\"><img src=\"https://colab.research.google.com/assets/colab-badge.svg\" alt=\"Open In Colab\"/></a>"
      ]
    },
    {
      "cell_type": "code",
      "source": [
        "#ans 1\n",
        "def twoSum(nums, target):\n",
        "    num_dict = {}  \n",
        "\n",
        "    for i, num in enumerate(nums):\n",
        "        complement = target - num\n",
        "        if complement in num_dict:\n",
        "            return [num_dict[complement], i]\n",
        "        num_dict[num] = i\n",
        "\n",
        "    return []  \n",
        "# Example usage:\n",
        "nums = [2, 7, 11, 15]\n",
        "target = 9\n",
        "result = twoSum(nums, target)\n",
        "print(result)  "
      ],
      "metadata": {
        "colab": {
          "base_uri": "https://localhost:8080/"
        },
        "id": "toc3tHHxb5hr",
        "outputId": "30378ddd-5a9a-4989-d0e5-641cfce35106"
      },
      "execution_count": 1,
      "outputs": [
        {
          "output_type": "stream",
          "name": "stdout",
          "text": [
            "[0, 1]\n"
          ]
        }
      ]
    },
    {
      "cell_type": "code",
      "source": [
        "#ans 2\n",
        "def removeElement(nums, val):\n",
        "    i = 0  \n",
        "\n",
        "    for j in range(len(nums)):\n",
        "        if nums[j] != val:\n",
        "            nums[i] = nums[j]\n",
        "            i += 1\n",
        "\n",
        "    return i\n",
        "\n",
        "# Example usage:\n",
        "nums = [3, 2, 2, 3]\n",
        "val = 3\n",
        "result = removeElement(nums, val)\n",
        "print(result)  \n",
        "print(nums)    \n"
      ],
      "metadata": {
        "colab": {
          "base_uri": "https://localhost:8080/"
        },
        "id": "mMtJ9J-0cQh4",
        "outputId": "f35c46d5-bb96-464c-b05d-79027d837a85"
      },
      "execution_count": 2,
      "outputs": [
        {
          "output_type": "stream",
          "name": "stdout",
          "text": [
            "2\n",
            "[2, 2, 2, 3]\n"
          ]
        }
      ]
    },
    {
      "cell_type": "code",
      "source": [
        "#ans3\n",
        "def searchInsert(nums, target):\n",
        "    left = 0\n",
        "    right = len(nums) - 1\n",
        "\n",
        "    while left <= right:\n",
        "        mid = (left + right) // 2\n",
        "        if nums[mid] == target:\n",
        "            return mid\n",
        "        elif nums[mid] < target:\n",
        "            left = mid + 1\n",
        "        else:\n",
        "            right = mid - 1\n",
        "\n",
        "    return left\n",
        "\n",
        "# Example usage:\n",
        "nums = [1, 3, 5, 6]\n",
        "target = 5\n",
        "result = searchInsert(nums, target)\n",
        "print(result)  \n"
      ],
      "metadata": {
        "colab": {
          "base_uri": "https://localhost:8080/"
        },
        "id": "o1KQ8Q91c2p_",
        "outputId": "8a4d3ab9-8cce-44ac-ce2d-81b319c35011"
      },
      "execution_count": 3,
      "outputs": [
        {
          "output_type": "stream",
          "name": "stdout",
          "text": [
            "2\n"
          ]
        }
      ]
    },
    {
      "cell_type": "code",
      "source": [
        "#ans 4\n",
        "def plusOne(digits):\n",
        "    carry = 1\n",
        "\n",
        "    for i in range(len(digits) - 1, -1, -1):\n",
        "        sum = digits[i] + carry\n",
        "        digits[i] = sum % 10\n",
        "        carry = sum // 10\n",
        "        if carry == 0:\n",
        "            break\n",
        "\n",
        "    if carry > 0:\n",
        "        digits.insert(0, carry)\n",
        "\n",
        "    return digits\n",
        "\n",
        "# Example usage:\n",
        "digits = [1, 2, 3]\n",
        "result = plusOne(digits)\n",
        "print(result)  \n"
      ],
      "metadata": {
        "colab": {
          "base_uri": "https://localhost:8080/"
        },
        "id": "CBJ-OMzzd-SA",
        "outputId": "c52b287a-1296-42ad-a83c-d98871b3f7a2"
      },
      "execution_count": 4,
      "outputs": [
        {
          "output_type": "stream",
          "name": "stdout",
          "text": [
            "[1, 2, 4]\n"
          ]
        }
      ]
    },
    {
      "cell_type": "code",
      "source": [
        "#ans5 \n",
        "def merge(nums1, m, nums2, n):\n",
        "    p1 = m - 1  # pointer for nums1\n",
        "    p2 = n - 1  # pointer for nums2\n",
        "    p = m + n - 1  # pointer for merged elements\n",
        "\n",
        "    while p1 >= 0 and p2 >= 0:\n",
        "        if nums1[p1] >= nums2[p2]:\n",
        "            nums1[p] = nums1[p1]\n",
        "            p1 -= 1\n",
        "        else:\n",
        "            nums1[p] = nums2[p2]\n",
        "            p2 -= 1\n",
        "        p -= 1\n",
        "\n",
        "    nums1[:p2 + 1] = nums2[:p2 + 1]\n",
        "\n",
        "    return nums1\n",
        "\n",
        "# Example usage:\n",
        "nums1 = [1, 2, 3, 0, 0, 0]\n",
        "m = 3\n",
        "nums2 = [2, 5, 6]\n",
        "n = 3\n",
        "result = merge(nums1, m, nums2, n)\n",
        "print(result)  \n"
      ],
      "metadata": {
        "colab": {
          "base_uri": "https://localhost:8080/"
        },
        "id": "-SFMlQCDec-g",
        "outputId": "8eb68038-ec87-4253-fbe4-6ef3f5665549"
      },
      "execution_count": 5,
      "outputs": [
        {
          "output_type": "stream",
          "name": "stdout",
          "text": [
            "[1, 2, 2, 3, 5, 6]\n"
          ]
        }
      ]
    },
    {
      "cell_type": "code",
      "source": [
        "#ans 6\n",
        "def containsDuplicate(nums):\n",
        "    num_set = set()\n",
        "\n",
        "    for num in nums:\n",
        "        if num in num_set:\n",
        "            return True\n",
        "        num_set.add(num)\n",
        "\n",
        "    return False\n",
        "\n",
        "# Example usage:\n",
        "nums = [1, 2, 3, 1]\n",
        "result = containsDuplicate(nums)\n",
        "print(result)  \n"
      ],
      "metadata": {
        "colab": {
          "base_uri": "https://localhost:8080/"
        },
        "id": "03qS-B_SfE3a",
        "outputId": "64923db9-bff6-4bb7-c29c-68491204e483"
      },
      "execution_count": 6,
      "outputs": [
        {
          "output_type": "stream",
          "name": "stdout",
          "text": [
            "True\n"
          ]
        }
      ]
    },
    {
      "cell_type": "code",
      "source": [
        "#ans 7\n",
        "def moveZeroes(nums):\n",
        "    left = 0  \n",
        "    for right in range(len(nums)):\n",
        "        if nums[right] != 0:\n",
        "            nums[left], nums[right] = nums[right], nums[left]\n",
        "            left += 1\n",
        "\n",
        "    for i in range(left, len(nums)):\n",
        "        nums[i] = 0\n",
        "\n",
        "    return nums\n",
        "\n",
        "# Example usage:\n",
        "nums = [0, 1, 0, 3, 12]\n",
        "result = moveZeroes(nums)\n",
        "print(result) "
      ],
      "metadata": {
        "colab": {
          "base_uri": "https://localhost:8080/"
        },
        "id": "b9V9VwbmfYCX",
        "outputId": "52b40f01-733b-4007-b797-6ea1f03092c0"
      },
      "execution_count": 7,
      "outputs": [
        {
          "output_type": "stream",
          "name": "stdout",
          "text": [
            "[1, 3, 12, 0, 0]\n"
          ]
        }
      ]
    },
    {
      "cell_type": "code",
      "source": [
        "#ans 8\n",
        "def findErrorNums(nums):\n",
        "    i = 0\n",
        "    duplicate = -1\n",
        "\n",
        "    while i < len(nums):\n",
        "        if nums[i] != i + 1:\n",
        "            if nums[i] == nums[nums[i] - 1]:\n",
        "                duplicate = nums[i]\n",
        "            else:\n",
        "                nums[nums[i] - 1], nums[i] = nums[i], nums[nums[i] - 1]\n",
        "                continue\n",
        "        i += 1\n",
        "\n",
        "    missing = -1\n",
        "    for i in range(len(nums)):\n",
        "        if nums[i] != i + 1:\n",
        "            missing = i + 1\n",
        "            break\n",
        "\n",
        "    return [duplicate, missing]\n",
        "\n",
        "# Example usage:\n",
        "nums = [1, 2, 2, 4]\n",
        "result = findErrorNums(nums)\n",
        "print(result)  \n"
      ],
      "metadata": {
        "id": "T6GN0QZAfosj"
      },
      "execution_count": null,
      "outputs": []
    }
  ]
}