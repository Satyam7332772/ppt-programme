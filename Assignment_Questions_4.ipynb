{
  "nbformat": 4,
  "nbformat_minor": 0,
  "metadata": {
    "colab": {
      "provenance": [],
      "authorship_tag": "ABX9TyOYT3HM1riu6pLhfpKPImpS",
      "include_colab_link": true
    },
    "kernelspec": {
      "name": "python3",
      "display_name": "Python 3"
    },
    "language_info": {
      "name": "python"
    }
  },
  "cells": [
    {
      "cell_type": "markdown",
      "metadata": {
        "id": "view-in-github",
        "colab_type": "text"
      },
      "source": [
        "<a href=\"https://colab.research.google.com/github/Satyam7332772/ppt-programme/blob/main/Assignment_Questions_4.ipynb\" target=\"_parent\"><img src=\"https://colab.research.google.com/assets/colab-badge.svg\" alt=\"Open In Colab\"/></a>"
      ]
    },
    {
      "cell_type": "code",
      "execution_count": 1,
      "metadata": {
        "colab": {
          "base_uri": "https://localhost:8080/"
        },
        "id": "H9Hrb7T_5TUc",
        "outputId": "14285934-c9e5-4166-d772-c5358a5108b5"
      },
      "outputs": [
        {
          "output_type": "stream",
          "name": "stdout",
          "text": [
            "[1, 5]\n"
          ]
        }
      ],
      "source": [
        "#ans1\n",
        "def find_common_elements(arr1, arr2, arr3):\n",
        "    p1, p2, p3 = 0, 0, 0\n",
        "    result = []\n",
        "\n",
        "    while p1 < len(arr1) and p2 < len(arr2) and p3 < len(arr3):\n",
        "        if arr1[p1] == arr2[p2] == arr3[p3]:\n",
        "            result.append(arr1[p1])\n",
        "            p1 += 1\n",
        "            p2 += 1\n",
        "            p3 += 1\n",
        "        elif arr1[p1] < arr2[p2] or arr1[p1] < arr3[p3]:\n",
        "            p1 += 1\n",
        "        elif arr2[p2] < arr1[p1] or arr2[p2] < arr3[p3]:\n",
        "            p2 += 1\n",
        "        elif arr3[p3] < arr1[p1] or arr3[p3] < arr2[p2]:\n",
        "            p3 += 1\n",
        "\n",
        "    return result\n",
        "\n",
        "#Example\n",
        "arr1 = [1, 2, 3, 4, 5]\n",
        "arr2 = [1, 2, 5, 7, 9]\n",
        "arr3 = [1, 3, 4, 5, 8]\n",
        "\n",
        "print(find_common_elements(arr1, arr2, arr3))\n"
      ]
    },
    {
      "cell_type": "code",
      "source": [
        "#ans2\n",
        "def find_disjoint_elements(nums1, nums2):\n",
        "    set1 = set(nums1)\n",
        "    set2 = set(nums2)\n",
        "    \n",
        "    result1 = [num for num in nums1 if num not in set2]\n",
        "    result2 = [num for num in nums2 if num not in set1]\n",
        "    \n",
        "    return [result1, result2]\n",
        "\n",
        "#Example\n",
        "nums1 = [1, 2, 3]\n",
        "nums2 = [2, 4, 6]\n",
        "\n",
        "print(find_disjoint_elements(nums1, nums2))\n"
      ],
      "metadata": {
        "colab": {
          "base_uri": "https://localhost:8080/"
        },
        "id": "YZLFQbxk5lz1",
        "outputId": "2c130b16-f0e3-4733-c358-8c1380aa1c34"
      },
      "execution_count": 2,
      "outputs": [
        {
          "output_type": "stream",
          "name": "stdout",
          "text": [
            "[[1, 3], [4, 6]]\n"
          ]
        }
      ]
    },
    {
      "cell_type": "code",
      "source": [
        "#ans3\n",
        "def transpose(matrix):\n",
        "    rows = len(matrix)\n",
        "    cols = len(matrix[0])\n",
        "\n",
        "    result = [[0] * rows for _ in range(cols)]\n",
        "\n",
        "    for i in range(rows):\n",
        "        for j in range(cols):\n",
        "            result[j][i] = matrix[i][j]\n",
        "\n",
        "    return result\n"
      ],
      "metadata": {
        "id": "BUkVFSXz6AXw"
      },
      "execution_count": 3,
      "outputs": []
    },
    {
      "cell_type": "code",
      "source": [
        "#ans4\n",
        "def array_pair_sum(nums):\n",
        "    nums.sort()\n",
        "    max_sum = 0\n",
        "\n",
        "    for i in range(0, len(nums), 2):\n",
        "        max_sum += nums[i]\n",
        "\n",
        "    return max_sum\n",
        "#Example\n",
        "nums = [1, 4, 3, 2]\n",
        "\n",
        "print(array_pair_sum(nums))\n"
      ],
      "metadata": {
        "colab": {
          "base_uri": "https://localhost:8080/"
        },
        "id": "CYSkEuo46cRd",
        "outputId": "d815b43d-8c9a-4cbe-c91e-037a3443f49e"
      },
      "execution_count": 4,
      "outputs": [
        {
          "output_type": "stream",
          "name": "stdout",
          "text": [
            "4\n"
          ]
        }
      ]
    },
    {
      "cell_type": "code",
      "source": [
        "#ans5\n",
        "def arrange_coins(n):\n",
        "    rows = 0\n",
        "    coins = 0\n",
        "\n",
        "    while coins <= n:\n",
        "        rows += 1\n",
        "        coins += rows\n",
        "\n",
        "    return rows - 1\n",
        "\n",
        "\n"
      ],
      "metadata": {
        "id": "Gw2eZk8u6ptS"
      },
      "execution_count": 5,
      "outputs": []
    },
    {
      "cell_type": "code",
      "source": [
        "#ans6\n",
        "def sorted_squares(nums):\n",
        "    result = []\n",
        "\n",
        "    for num in nums:\n",
        "        result.append(num * num)\n",
        "\n",
        "    result.sort()\n",
        "\n",
        "    return result\n",
        "\n",
        "#Example\n",
        "nums = [-4, -1, 0, 3, 10]\n",
        "\n",
        "print(sorted_squares(nums))\n"
      ],
      "metadata": {
        "colab": {
          "base_uri": "https://localhost:8080/"
        },
        "id": "qSo4qdA67BIV",
        "outputId": "4ebb1995-6e4e-40b0-e3c5-fedf7cd020c3"
      },
      "execution_count": 6,
      "outputs": [
        {
          "output_type": "stream",
          "name": "stdout",
          "text": [
            "[0, 1, 9, 16, 100]\n"
          ]
        }
      ]
    },
    {
      "cell_type": "code",
      "source": [
        "#ans7\n",
        "def max_count(m, n, ops):\n",
        "    row_min = m\n",
        "    col_min = n\n",
        "\n",
        "    for op in ops:\n",
        "        row_min = min(row_min, op[0])\n",
        "        col_min = min(col_min, op[1])\n",
        "\n",
        "    return row_min * col_min\n",
        "\n",
        "#Example\n",
        "m = 3\n",
        "n = 3\n",
        "ops = [[2, 2], [3, 3]]\n",
        "\n",
        "print(max_count(m, n, ops))\n"
      ],
      "metadata": {
        "colab": {
          "base_uri": "https://localhost:8080/"
        },
        "id": "QC_zl4067bol",
        "outputId": "44538875-b34b-4438-9b73-bf64d1f4d785"
      },
      "execution_count": 7,
      "outputs": [
        {
          "output_type": "stream",
          "name": "stdout",
          "text": [
            "4\n"
          ]
        }
      ]
    },
    {
      "cell_type": "code",
      "source": [
        "#ans8\n",
        "def shuffle(nums, n):\n",
        "    x = nums[:n]\n",
        "    y = nums[n:]\n",
        "\n",
        "    result = []\n",
        "\n",
        "    for i in range(n):\n",
        "        result.append(x[i])\n",
        "        result.append(y[i])\n",
        "\n",
        "    return result\n",
        "\n",
        "#Example\n",
        "nums = [2, 5, 1, 3, 4, 7]\n",
        "n = 3\n",
        "\n",
        "print(shuffle(nums, n))\n"
      ],
      "metadata": {
        "colab": {
          "base_uri": "https://localhost:8080/"
        },
        "id": "Ldqw-gDr7pGa",
        "outputId": "ce697363-3d0c-4d6a-f2ce-14cb9d3968a7"
      },
      "execution_count": 8,
      "outputs": [
        {
          "output_type": "stream",
          "name": "stdout",
          "text": [
            "[2, 3, 5, 4, 1, 7]\n"
          ]
        }
      ]
    },
    {
      "cell_type": "code",
      "source": [],
      "metadata": {
        "id": "T1pcAiz374Am"
      },
      "execution_count": null,
      "outputs": []
    }
  ]
}